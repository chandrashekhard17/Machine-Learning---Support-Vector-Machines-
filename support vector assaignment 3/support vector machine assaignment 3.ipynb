{
 "cells": [
  {
   "cell_type": "markdown",
   "id": "0139fc4e",
   "metadata": {},
   "source": [
    "### Q1. In order to predict house prices based on several characteristics, such as location, square footage, and number of bedrooms, which regression metric would be the best to employ?\n",
    "\n",
    "In this case, **Mean Squared Error (MSE)** or **Root Mean Squared Error (RMSE)** would be ideal metrics because they directly measure how far your predictions are from the actual house prices, in terms of squared differences. Since the goal is to predict actual house prices, RMSE would give you a more interpretable result by presenting the error in the same units as the house prices.\n",
    "\n",
    "- **RMSE** is generally preferred because it penalizes larger errors more heavily, making it sensitive to significant deviations from actual values. \n",
    "\n",
    "**Dataset link:** Please provide a dataset link if you have one.\n",
    "\n",
    "### Q2. You have built an SVM regression model and are trying to decide between using MSE or R-squared as your evaluation metric. Which metric would be more appropriate if your goal is to predict the actual price of a house as accurately as possible?\n",
    "\n",
    "If your goal is to **predict the actual price of a house as accurately as possible**, then **Mean Squared Error (MSE)** or **Root Mean Squared Error (RMSE)** is more appropriate.\n",
    "\n",
    "- **MSE/RMSE** measures the actual difference between the predicted and true house prices. A lower value means more accurate predictions, making it more suitable for this task.\n",
    "\n",
    "- **R-squared** measures how well the model explains the variance in the target variable, but it does not directly indicate how accurate the predictions are in terms of actual values.\n",
    "\n",
    "### Q3. You have a dataset with a significant number of outliers and are trying to select an appropriate regression metric to use with your SVM model. Which metric would be the most appropriate in this scenario?\n",
    "\n",
    "When dealing with a dataset that has a significant number of outliers, **Mean Absolute Error (MAE)** would be a more appropriate metric to use.\n",
    "\n",
    "- **MAE** is less sensitive to outliers than **MSE** or **RMSE** because it only considers the absolute differences between the predicted and actual values, without squaring them. This makes it a more robust metric when outliers are present, as it doesn’t penalize large errors as heavily as MSE does.\n",
    "\n",
    "### Q4. You have built an SVM regression model using a polynomial kernel and are trying to select the best metric to evaluate its performance. You have calculated both MSE and RMSE and found that both values are very close. Which metric should you choose to use in this case?\n",
    "\n",
    "If **MSE** and **RMSE** are very close, it is often better to use **RMSE** because it is in the same unit as the target variable (e.g., house prices).\n",
    "\n",
    "- **RMSE** provides an intuitive interpretation of the error in the same scale as the output, making it easier to understand and communicate how far the predictions are from the actual values.\n",
    "- If the numbers are very close, you could choose RMSE for its interpretability.\n",
    "\n",
    "### Q5. You are comparing the performance of different SVM regression models using different kernels (linear, polynomial, and RBF) and are trying to select the best evaluation metric. Which metric would be most appropriate if your goal is to measure how well the model explains the variance in the target variable?\n",
    "\n",
    "To measure **how well the model explains the variance in the target variable**, **R-squared (R²)** is the most appropriate metric.\n",
    "\n",
    "- **R-squared** indicates the proportion of the variance in the dependent variable that is predictable from the independent variables. It ranges from 0 to 1, where higher values indicate that the model explains more variance in the data.\n",
    "- This metric is ideal for comparing different kernels, as it provides a direct measure of how well each model is capturing the underlying data patterns.\n",
    "\n",
    "In summary:\n",
    "- Use **RMSE** for accuracy in predicting actual house prices.\n",
    "- Use **MAE** when you have outliers.\n",
    "- Use **R-squared** when you are comparing different models to measure variance explanation."
   ]
  },
  {
   "cell_type": "code",
   "execution_count": null,
   "id": "2a5c0ace",
   "metadata": {},
   "outputs": [],
   "source": []
  }
 ],
 "metadata": {
  "kernelspec": {
   "display_name": "Python 3 (ipykernel)",
   "language": "python",
   "name": "python3"
  },
  "language_info": {
   "codemirror_mode": {
    "name": "ipython",
    "version": 3
   },
   "file_extension": ".py",
   "mimetype": "text/x-python",
   "name": "python",
   "nbconvert_exporter": "python",
   "pygments_lexer": "ipython3",
   "version": "3.10.9"
  }
 },
 "nbformat": 4,
 "nbformat_minor": 5
}
